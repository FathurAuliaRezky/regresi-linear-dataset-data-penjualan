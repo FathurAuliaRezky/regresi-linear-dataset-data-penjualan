{
 "cells": [
  {
   "cell_type": "code",
   "execution_count": 1,
   "id": "3696e107",
   "metadata": {},
   "outputs": [],
   "source": [
    "import pandas as pd\n",
    "import matplotlib.pyplot as plt\n",
    "import numpy as np\n",
    "from sklearn.metrics import r2_score\n",
    "from sklearn.linear_model import LinearRegression"
   ]
  },
  {
   "cell_type": "code",
   "execution_count": 3,
   "id": "13d6f75a",
   "metadata": {},
   "outputs": [],
   "source": [
    "# membaca file csv\n",
    "df = pd.read_csv('data-penjualan.csv', delimiter=';')"
   ]
  },
  {
   "cell_type": "markdown",
   "id": "d0cb073a",
   "metadata": {},
   "source": [
    "Import dataset:\n",
    "Pada bagian ini, dilakukan penggunaan library pandas untuk mengimpor dataset data-penjualan.csv ke dalam lingkungan kerja Python. Dataset tersebut kemudian disimpan ke dalam dataframe dengan menggunakan fungsi pd.read_csv(). "
   ]
  },
  {
   "cell_type": "code",
   "execution_count": 4,
   "id": "19ada613",
   "metadata": {},
   "outputs": [
    {
     "data": {
      "text/plain": [
       "LinearRegression()"
      ]
     },
     "execution_count": 4,
     "metadata": {},
     "output_type": "execute_result"
    }
   ],
   "source": [
    "# memisahkan variabel independen dan dependen\n",
    "X = df[['promosi']]\n",
    "y = df['penjualan']\n",
    "\n",
    "# membuat objek model regresi linear\n",
    "model = LinearRegression()\n",
    "\n",
    "# melatih model dengan data\n",
    "model.fit(X, y)"
   ]
  },
  {
   "cell_type": "markdown",
   "id": "fd85b096",
   "metadata": {},
   "source": [
    "Pembuatan model:\n",
    "Langkah selanjutnya adalah membuat model regresi linear. Pada bagian ini, digunakan library scikit-learn untuk membuat model tersebut. Pertama, variabel independen (X) dan variabel dependen (y) dipisahkan dari dataframe. Selanjutnya, objek model regresi linear dibuat dengan memanggil fungsi LinearRegression(), dan model dilatih dengan data menggunakan fungsi fit()."
   ]
  },
  {
   "cell_type": "code",
   "execution_count": 5,
   "id": "1dbf200a",
   "metadata": {},
   "outputs": [
    {
     "data": {
      "image/png": "[encoded data removed]",
      "text/plain": [
       "<Figure size 640x480 with 1 Axes>"
      ]
     },
     "metadata": {},
     "output_type": "display_data"
    }
   ],
   "source": [
    "# membuat plot data\n",
    "plt.scatter(X, y)\n",
    "\n",
    "# membuat plot garis regresi linear\n",
    "plt.plot(X, model.predict(X), color='red')\n",
    "\n",
    "# menampilkan plot\n",
    "plt.show()"
   ]
  },
  {
   "cell_type": "markdown",
   "id": "e47fb1c7",
   "metadata": {},
   "source": [
    "Visualisasi:\n",
    "Setelah model dibuat, dilakukan visualisasi data dan garis regresi linear yang dihasilkan oleh model. Hal ini dilakukan dengan menggunakan library matplotlib. Data diplot menggunakan fungsi scatter(), sedangkan garis regresi linear diplot menggunakan fungsi plot()."
   ]
  },
  {
   "cell_type": "code",
   "execution_count": 6,
   "id": "ade607d9",
   "metadata": {},
   "outputs": [
    {
     "name": "stdout",
     "output_type": "stream",
     "text": [
      "R-squared: 0.9874197015184576\n"
     ]
    }
   ],
   "source": [
    "# menghitung nilai r-squared\n",
    "r_squared = r2_score(y, model.predict(X))\n",
    "\n",
    "# menampilkan nilai r-squared\n",
    "print('R-squared:', r_squared)"
   ]
  },
  {
   "cell_type": "markdown",
   "id": "b087ea70",
   "metadata": {},
   "source": [
    "Akurasi:\n",
    "Untuk mengevaluasi akurasi model, digunakan metrik r-squared. Metrik ini mengukur seberapa baik model cocok dengan data yang ada. Pada bagian ini, digunakan library scikit-learn untuk menghitung nilai r-squared dengan memanggil fungsi r2_score()."
   ]
  },
  {
   "cell_type": "code",
   "execution_count": 7,
   "id": "e840969d",
   "metadata": {},
   "outputs": [
    {
     "name": "stdout",
     "output_type": "stream",
     "text": [
      "Prediksi untuk promosi 20 dan 100: [ 95.38781949 208.95989944]\n"
     ]
    },
    {
     "name": "stderr",
     "output_type": "stream",
     "text": [
      "C:\\Users\\HP\\anaconda3\\lib\\site-packages\\sklearn\\base.py:450: UserWarning: X does not have valid feature names, but LinearRegression was fitted with feature names\n",
      "  warnings.warn(\n"
     ]
    }
   ],
   "source": [
    "# membuat array numpy untuk nilai promosi yang akan diprediksi\n",
    "X_test = np.array([[20], [100]])\n",
    "\n",
    "# melakukan prediksi\n",
    "y_pred = model.predict(X_test)\n",
    "\n",
    "# menampilkan hasil prediksi\n",
    "print('Prediksi untuk promosi 20 dan 100:', y_pred)"
   ]
  },
  {
   "cell_type": "markdown",
   "id": "58d920c6",
   "metadata": {},
   "source": [
    "Pengujian:\n",
    "Terakhir, model yang telah dibuat digunakan untuk melakukan prediksi. Pada bagian ini, dilakukan prediksi untuk nilai promosi 20 dan 100. Hasil prediksi ditampilkan ke layar."
   ]
  }
 ],
 "metadata": {
  "kernelspec": {
   "display_name": "Python 3 (ipykernel)",
   "language": "python",
   "name": "python3"
  },
  "language_info": {
   "codemirror_mode": {
    "name": "ipython",
    "version": 3
   },
   "file_extension": ".py",
   "mimetype": "text/x-python",
   "name": "python",
   "nbconvert_exporter": "python",
   "pygments_lexer": "ipython3",
   "version": "3.9.13"
  }
 },
 "nbformat": 4,
 "nbformat_minor": 5
}
